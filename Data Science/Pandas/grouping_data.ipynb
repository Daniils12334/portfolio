{
 "cells": [
  {
   "cell_type": "code",
   "execution_count": 1,
   "id": "f8d3c127-65af-4312-a541-fe3e70421d9c",
   "metadata": {},
   "outputs": [],
   "source": [
    "import pandas as pd"
   ]
  },
  {
   "cell_type": "code",
   "execution_count": 2,
   "id": "b6e93869-ac4b-4479-af77-4e5660dfd0fa",
   "metadata": {},
   "outputs": [],
   "source": [
    "df = pd.read_csv('/home/danbar/Desktop/project_x/health_activity_data.csv')"
   ]
  },
  {
   "cell_type": "code",
   "execution_count": 4,
   "id": "5a420b16-116a-44e7-96dc-4a4cb2400f74",
   "metadata": {},
   "outputs": [],
   "source": [
    "df.Gender = df.Gender.fillna('Male')"
   ]
  },
  {
   "cell_type": "code",
   "execution_count": 10,
   "id": "0c614b74-0752-45b2-a9db-7e95a50c54c3",
   "metadata": {},
   "outputs": [
    {
     "data": {
      "text/html": [
       "<div>\n",
       "<style scoped>\n",
       "    .dataframe tbody tr th:only-of-type {\n",
       "        vertical-align: middle;\n",
       "    }\n",
       "\n",
       "    .dataframe tbody tr th {\n",
       "        vertical-align: top;\n",
       "    }\n",
       "\n",
       "    .dataframe thead tr th {\n",
       "        text-align: left;\n",
       "    }\n",
       "\n",
       "    .dataframe thead tr:last-of-type th {\n",
       "        text-align: right;\n",
       "    }\n",
       "</style>\n",
       "<table border=\"1\" class=\"dataframe\">\n",
       "  <thead>\n",
       "    <tr>\n",
       "      <th></th>\n",
       "      <th colspan=\"5\" halign=\"left\">Age</th>\n",
       "      <th colspan=\"5\" halign=\"left\">ID</th>\n",
       "    </tr>\n",
       "    <tr>\n",
       "      <th></th>\n",
       "      <th>mean</th>\n",
       "      <th>min</th>\n",
       "      <th>max</th>\n",
       "      <th>std</th>\n",
       "      <th>sum</th>\n",
       "      <th>mean</th>\n",
       "      <th>min</th>\n",
       "      <th>max</th>\n",
       "      <th>std</th>\n",
       "      <th>sum</th>\n",
       "    </tr>\n",
       "    <tr>\n",
       "      <th>Gender</th>\n",
       "      <th></th>\n",
       "      <th></th>\n",
       "      <th></th>\n",
       "      <th></th>\n",
       "      <th></th>\n",
       "      <th></th>\n",
       "      <th></th>\n",
       "      <th></th>\n",
       "      <th></th>\n",
       "      <th></th>\n",
       "    </tr>\n",
       "  </thead>\n",
       "  <tbody>\n",
       "    <tr>\n",
       "      <th>Female</th>\n",
       "      <td>49.169811</td>\n",
       "      <td>18</td>\n",
       "      <td>79</td>\n",
       "      <td>18.088092</td>\n",
       "      <td>23454</td>\n",
       "      <td>502.979036</td>\n",
       "      <td>3</td>\n",
       "      <td>1000</td>\n",
       "      <td>284.677777</td>\n",
       "      <td>239921</td>\n",
       "    </tr>\n",
       "    <tr>\n",
       "      <th>Male</th>\n",
       "      <td>50.483748</td>\n",
       "      <td>18</td>\n",
       "      <td>79</td>\n",
       "      <td>18.132685</td>\n",
       "      <td>26403</td>\n",
       "      <td>498.239006</td>\n",
       "      <td>1</td>\n",
       "      <td>999</td>\n",
       "      <td>292.799675</td>\n",
       "      <td>260579</td>\n",
       "    </tr>\n",
       "  </tbody>\n",
       "</table>\n",
       "</div>"
      ],
      "text/plain": [
       "              Age                                    ID                        \\\n",
       "             mean min max        std    sum        mean min   max         std   \n",
       "Gender                                                                          \n",
       "Female  49.169811  18  79  18.088092  23454  502.979036   3  1000  284.677777   \n",
       "Male    50.483748  18  79  18.132685  26403  498.239006   1   999  292.799675   \n",
       "\n",
       "                \n",
       "           sum  \n",
       "Gender          \n",
       "Female  239921  \n",
       "Male    260579  "
      ]
     },
     "execution_count": 10,
     "metadata": {},
     "output_type": "execute_result"
    }
   ],
   "source": [
    "df.groupby('Gender').agg({\n",
    "    'Age': ['mean', 'min', 'max', 'std', 'sum'],\n",
    "    'ID': ['mean', 'min', 'max', 'std', 'sum']\n",
    "    \n",
    "})"
   ]
  },
  {
   "cell_type": "code",
   "execution_count": null,
   "id": "3fbc06d7-d1d8-4823-94a1-5068881ce448",
   "metadata": {},
   "outputs": [],
   "source": []
  }
 ],
 "metadata": {
  "kernelspec": {
   "display_name": "Python 3 (ipykernel)",
   "language": "python",
   "name": "python3"
  },
  "language_info": {
   "codemirror_mode": {
    "name": "ipython",
    "version": 3
   },
   "file_extension": ".py",
   "mimetype": "text/x-python",
   "name": "python",
   "nbconvert_exporter": "python",
   "pygments_lexer": "ipython3",
   "version": "3.13.2"
  }
 },
 "nbformat": 4,
 "nbformat_minor": 5
}
