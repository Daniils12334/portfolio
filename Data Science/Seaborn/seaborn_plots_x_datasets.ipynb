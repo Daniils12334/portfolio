{
 "cells": [
  {
   "cell_type": "code",
   "execution_count": 2,
   "metadata": {},
   "outputs": [],
   "source": [
    "import numpy as np\n",
    "import seaborn as sns"
   ]
  },
  {
   "cell_type": "code",
   "execution_count": 3,
   "metadata": {},
   "outputs": [],
   "source": [
    "# sns.get_dataset_names()"
   ]
  },
  {
   "cell_type": "code",
   "execution_count": 4,
   "metadata": {},
   "outputs": [],
   "source": [
    "tips = sns.load_dataset(\"tips\")\n",
    "iris = sns.load_dataset(\"iris\")\n"
   ]
  },
  {
   "cell_type": "code",
   "execution_count": 5,
   "metadata": {},
   "outputs": [
    {
     "data": {
      "application/vnd.microsoft.datawrangler.viewer.v0+json": {
       "columns": [
        {
         "name": "index",
         "rawType": "int64",
         "type": "integer"
        },
        {
         "name": "total_bill",
         "rawType": "float64",
         "type": "float"
        },
        {
         "name": "tip",
         "rawType": "float64",
         "type": "float"
        },
        {
         "name": "sex",
         "rawType": "category",
         "type": "unknown"
        },
        {
         "name": "smoker",
         "rawType": "category",
         "type": "unknown"
        },
        {
         "name": "day",
         "rawType": "category",
         "type": "unknown"
        },
        {
         "name": "time",
         "rawType": "category",
         "type": "unknown"
        },
        {
         "name": "size",
         "rawType": "int64",
         "type": "integer"
        }
       ],
       "conversionMethod": "pd.DataFrame",
       "ref": "cddb70a6-d5e4-48bc-a4cb-02c44888c10e",
       "rows": [
        [
         "0",
         "16.99",
         "1.01",
         "Female",
         "No",
         "Sun",
         "Dinner",
         "2"
        ],
        [
         "1",
         "10.34",
         "1.66",
         "Male",
         "No",
         "Sun",
         "Dinner",
         "3"
        ],
        [
         "2",
         "21.01",
         "3.5",
         "Male",
         "No",
         "Sun",
         "Dinner",
         "3"
        ],
        [
         "3",
         "23.68",
         "3.31",
         "Male",
         "No",
         "Sun",
         "Dinner",
         "2"
        ],
        [
         "4",
         "24.59",
         "3.61",
         "Female",
         "No",
         "Sun",
         "Dinner",
         "4"
        ],
        [
         "5",
         "25.29",
         "4.71",
         "Male",
         "No",
         "Sun",
         "Dinner",
         "4"
        ],
        [
         "6",
         "8.77",
         "2.0",
         "Male",
         "No",
         "Sun",
         "Dinner",
         "2"
        ],
        [
         "7",
         "26.88",
         "3.12",
         "Male",
         "No",
         "Sun",
         "Dinner",
         "4"
        ],
        [
         "8",
         "15.04",
         "1.96",
         "Male",
         "No",
         "Sun",
         "Dinner",
         "2"
        ],
        [
         "9",
         "14.78",
         "3.23",
         "Male",
         "No",
         "Sun",
         "Dinner",
         "2"
        ],
        [
         "10",
         "10.27",
         "1.71",
         "Male",
         "No",
         "Sun",
         "Dinner",
         "2"
        ],
        [
         "11",
         "35.26",
         "5.0",
         "Female",
         "No",
         "Sun",
         "Dinner",
         "4"
        ],
        [
         "12",
         "15.42",
         "1.57",
         "Male",
         "No",
         "Sun",
         "Dinner",
         "2"
        ],
        [
         "13",
         "18.43",
         "3.0",
         "Male",
         "No",
         "Sun",
         "Dinner",
         "4"
        ],
        [
         "14",
         "14.83",
         "3.02",
         "Female",
         "No",
         "Sun",
         "Dinner",
         "2"
        ],
        [
         "15",
         "21.58",
         "3.92",
         "Male",
         "No",
         "Sun",
         "Dinner",
         "2"
        ],
        [
         "16",
         "10.33",
         "1.67",
         "Female",
         "No",
         "Sun",
         "Dinner",
         "3"
        ],
        [
         "17",
         "16.29",
         "3.71",
         "Male",
         "No",
         "Sun",
         "Dinner",
         "3"
        ],
        [
         "18",
         "16.97",
         "3.5",
         "Female",
         "No",
         "Sun",
         "Dinner",
         "3"
        ],
        [
         "19",
         "20.65",
         "3.35",
         "Male",
         "No",
         "Sat",
         "Dinner",
         "3"
        ],
        [
         "20",
         "17.92",
         "4.08",
         "Male",
         "No",
         "Sat",
         "Dinner",
         "2"
        ],
        [
         "21",
         "20.29",
         "2.75",
         "Female",
         "No",
         "Sat",
         "Dinner",
         "2"
        ],
        [
         "22",
         "15.77",
         "2.23",
         "Female",
         "No",
         "Sat",
         "Dinner",
         "2"
        ],
        [
         "23",
         "39.42",
         "7.58",
         "Male",
         "No",
         "Sat",
         "Dinner",
         "4"
        ],
        [
         "24",
         "19.82",
         "3.18",
         "Male",
         "No",
         "Sat",
         "Dinner",
         "2"
        ],
        [
         "25",
         "17.81",
         "2.34",
         "Male",
         "No",
         "Sat",
         "Dinner",
         "4"
        ],
        [
         "26",
         "13.37",
         "2.0",
         "Male",
         "No",
         "Sat",
         "Dinner",
         "2"
        ],
        [
         "27",
         "12.69",
         "2.0",
         "Male",
         "No",
         "Sat",
         "Dinner",
         "2"
        ],
        [
         "28",
         "21.7",
         "4.3",
         "Male",
         "No",
         "Sat",
         "Dinner",
         "2"
        ],
        [
         "29",
         "19.65",
         "3.0",
         "Female",
         "No",
         "Sat",
         "Dinner",
         "2"
        ],
        [
         "30",
         "9.55",
         "1.45",
         "Male",
         "No",
         "Sat",
         "Dinner",
         "2"
        ],
        [
         "31",
         "18.35",
         "2.5",
         "Male",
         "No",
         "Sat",
         "Dinner",
         "4"
        ],
        [
         "32",
         "15.06",
         "3.0",
         "Female",
         "No",
         "Sat",
         "Dinner",
         "2"
        ],
        [
         "33",
         "20.69",
         "2.45",
         "Female",
         "No",
         "Sat",
         "Dinner",
         "4"
        ],
        [
         "34",
         "17.78",
         "3.27",
         "Male",
         "No",
         "Sat",
         "Dinner",
         "2"
        ],
        [
         "35",
         "24.06",
         "3.6",
         "Male",
         "No",
         "Sat",
         "Dinner",
         "3"
        ],
        [
         "36",
         "16.31",
         "2.0",
         "Male",
         "No",
         "Sat",
         "Dinner",
         "3"
        ],
        [
         "37",
         "16.93",
         "3.07",
         "Female",
         "No",
         "Sat",
         "Dinner",
         "3"
        ],
        [
         "38",
         "18.69",
         "2.31",
         "Male",
         "No",
         "Sat",
         "Dinner",
         "3"
        ],
        [
         "39",
         "31.27",
         "5.0",
         "Male",
         "No",
         "Sat",
         "Dinner",
         "3"
        ],
        [
         "40",
         "16.04",
         "2.24",
         "Male",
         "No",
         "Sat",
         "Dinner",
         "3"
        ],
        [
         "41",
         "17.46",
         "2.54",
         "Male",
         "No",
         "Sun",
         "Dinner",
         "2"
        ],
        [
         "42",
         "13.94",
         "3.06",
         "Male",
         "No",
         "Sun",
         "Dinner",
         "2"
        ],
        [
         "43",
         "9.68",
         "1.32",
         "Male",
         "No",
         "Sun",
         "Dinner",
         "2"
        ],
        [
         "44",
         "30.4",
         "5.6",
         "Male",
         "No",
         "Sun",
         "Dinner",
         "4"
        ],
        [
         "45",
         "18.29",
         "3.0",
         "Male",
         "No",
         "Sun",
         "Dinner",
         "2"
        ],
        [
         "46",
         "22.23",
         "5.0",
         "Male",
         "No",
         "Sun",
         "Dinner",
         "2"
        ],
        [
         "47",
         "32.4",
         "6.0",
         "Male",
         "No",
         "Sun",
         "Dinner",
         "4"
        ],
        [
         "48",
         "28.55",
         "2.05",
         "Male",
         "No",
         "Sun",
         "Dinner",
         "3"
        ],
        [
         "49",
         "18.04",
         "3.0",
         "Male",
         "No",
         "Sun",
         "Dinner",
         "2"
        ]
       ],
       "shape": {
        "columns": 7,
        "rows": 244
       }
      },
      "text/html": [
       "<div>\n",
       "<style scoped>\n",
       "    .dataframe tbody tr th:only-of-type {\n",
       "        vertical-align: middle;\n",
       "    }\n",
       "\n",
       "    .dataframe tbody tr th {\n",
       "        vertical-align: top;\n",
       "    }\n",
       "\n",
       "    .dataframe thead th {\n",
       "        text-align: right;\n",
       "    }\n",
       "</style>\n",
       "<table border=\"1\" class=\"dataframe\">\n",
       "  <thead>\n",
       "    <tr style=\"text-align: right;\">\n",
       "      <th></th>\n",
       "      <th>total_bill</th>\n",
       "      <th>tip</th>\n",
       "      <th>sex</th>\n",
       "      <th>smoker</th>\n",
       "      <th>day</th>\n",
       "      <th>time</th>\n",
       "      <th>size</th>\n",
       "    </tr>\n",
       "  </thead>\n",
       "  <tbody>\n",
       "    <tr>\n",
       "      <th>0</th>\n",
       "      <td>16.99</td>\n",
       "      <td>1.01</td>\n",
       "      <td>Female</td>\n",
       "      <td>No</td>\n",
       "      <td>Sun</td>\n",
       "      <td>Dinner</td>\n",
       "      <td>2</td>\n",
       "    </tr>\n",
       "    <tr>\n",
       "      <th>1</th>\n",
       "      <td>10.34</td>\n",
       "      <td>1.66</td>\n",
       "      <td>Male</td>\n",
       "      <td>No</td>\n",
       "      <td>Sun</td>\n",
       "      <td>Dinner</td>\n",
       "      <td>3</td>\n",
       "    </tr>\n",
       "    <tr>\n",
       "      <th>2</th>\n",
       "      <td>21.01</td>\n",
       "      <td>3.50</td>\n",
       "      <td>Male</td>\n",
       "      <td>No</td>\n",
       "      <td>Sun</td>\n",
       "      <td>Dinner</td>\n",
       "      <td>3</td>\n",
       "    </tr>\n",
       "    <tr>\n",
       "      <th>3</th>\n",
       "      <td>23.68</td>\n",
       "      <td>3.31</td>\n",
       "      <td>Male</td>\n",
       "      <td>No</td>\n",
       "      <td>Sun</td>\n",
       "      <td>Dinner</td>\n",
       "      <td>2</td>\n",
       "    </tr>\n",
       "    <tr>\n",
       "      <th>4</th>\n",
       "      <td>24.59</td>\n",
       "      <td>3.61</td>\n",
       "      <td>Female</td>\n",
       "      <td>No</td>\n",
       "      <td>Sun</td>\n",
       "      <td>Dinner</td>\n",
       "      <td>4</td>\n",
       "    </tr>\n",
       "    <tr>\n",
       "      <th>...</th>\n",
       "      <td>...</td>\n",
       "      <td>...</td>\n",
       "      <td>...</td>\n",
       "      <td>...</td>\n",
       "      <td>...</td>\n",
       "      <td>...</td>\n",
       "      <td>...</td>\n",
       "    </tr>\n",
       "    <tr>\n",
       "      <th>239</th>\n",
       "      <td>29.03</td>\n",
       "      <td>5.92</td>\n",
       "      <td>Male</td>\n",
       "      <td>No</td>\n",
       "      <td>Sat</td>\n",
       "      <td>Dinner</td>\n",
       "      <td>3</td>\n",
       "    </tr>\n",
       "    <tr>\n",
       "      <th>240</th>\n",
       "      <td>27.18</td>\n",
       "      <td>2.00</td>\n",
       "      <td>Female</td>\n",
       "      <td>Yes</td>\n",
       "      <td>Sat</td>\n",
       "      <td>Dinner</td>\n",
       "      <td>2</td>\n",
       "    </tr>\n",
       "    <tr>\n",
       "      <th>241</th>\n",
       "      <td>22.67</td>\n",
       "      <td>2.00</td>\n",
       "      <td>Male</td>\n",
       "      <td>Yes</td>\n",
       "      <td>Sat</td>\n",
       "      <td>Dinner</td>\n",
       "      <td>2</td>\n",
       "    </tr>\n",
       "    <tr>\n",
       "      <th>242</th>\n",
       "      <td>17.82</td>\n",
       "      <td>1.75</td>\n",
       "      <td>Male</td>\n",
       "      <td>No</td>\n",
       "      <td>Sat</td>\n",
       "      <td>Dinner</td>\n",
       "      <td>2</td>\n",
       "    </tr>\n",
       "    <tr>\n",
       "      <th>243</th>\n",
       "      <td>18.78</td>\n",
       "      <td>3.00</td>\n",
       "      <td>Female</td>\n",
       "      <td>No</td>\n",
       "      <td>Thur</td>\n",
       "      <td>Dinner</td>\n",
       "      <td>2</td>\n",
       "    </tr>\n",
       "  </tbody>\n",
       "</table>\n",
       "<p>244 rows × 7 columns</p>\n",
       "</div>"
      ],
      "text/plain": [
       "     total_bill   tip     sex smoker   day    time  size\n",
       "0         16.99  1.01  Female     No   Sun  Dinner     2\n",
       "1         10.34  1.66    Male     No   Sun  Dinner     3\n",
       "2         21.01  3.50    Male     No   Sun  Dinner     3\n",
       "3         23.68  3.31    Male     No   Sun  Dinner     2\n",
       "4         24.59  3.61  Female     No   Sun  Dinner     4\n",
       "..          ...   ...     ...    ...   ...     ...   ...\n",
       "239       29.03  5.92    Male     No   Sat  Dinner     3\n",
       "240       27.18  2.00  Female    Yes   Sat  Dinner     2\n",
       "241       22.67  2.00    Male    Yes   Sat  Dinner     2\n",
       "242       17.82  1.75    Male     No   Sat  Dinner     2\n",
       "243       18.78  3.00  Female     No  Thur  Dinner     2\n",
       "\n",
       "[244 rows x 7 columns]"
      ]
     },
     "execution_count": 5,
     "metadata": {},
     "output_type": "execute_result"
    }
   ],
   "source": [
    "tips"
   ]
  },
  {
   "cell_type": "code",
   "execution_count": 6,
   "metadata": {},
   "outputs": [
    {
     "data": {
      "text/plain": [
       "<Axes: xlabel='tip', ylabel='total_bill'>"
      ]
     },
     "execution_count": 6,
     "metadata": {},
     "output_type": "execute_result"
    },
    {
     "data": {
      "image/png": "[encoded data removed]",
      "text/plain": [
       "<Figure size 640x480 with 1 Axes>"
      ]
     },
     "metadata": {},
     "output_type": "display_data"
    }
   ],
   "source": [
    "sns.scatterplot(x=\"tip\", y =\"total_bill\", data=tips, hue = \"day\", size = \"size\", palette=\"YlGnBu\")"
   ]
  },
  {
   "cell_type": "code",
   "execution_count": 8,
   "metadata": {},
   "outputs": [
    {
     "data": {
      "text/plain": [
       "<seaborn.axisgrid.FacetGrid at 0x7fea1e1cd160>"
      ]
     },
     "execution_count": 8,
     "metadata": {},
     "output_type": "execute_result"
    },
    {
     "data": {
      "image/png": "[encoded data removed]",
      "text/plain": [
       "<Figure size 500x500 with 1 Axes>"
      ]
     },
     "metadata": {},
     "output_type": "display_data"
    }
   ],
   "source": [
    "sns.displot(tips['tip'], kde = True, bins = 15)"
   ]
  },
  {
   "cell_type": "code",
   "execution_count": 17,
   "metadata": {},
   "outputs": [
    {
     "data": {
      "text/plain": [
       "<Axes: xlabel='sex', ylabel='tip'>"
      ]
     },
     "execution_count": 17,
     "metadata": {},
     "output_type": "execute_result"
    },
    {
     "data": {
      "image/png": "[encoded data removed]",
      "text/plain": [
       "<Figure size 640x480 with 1 Axes>"
      ]
     },
     "metadata": {},
     "output_type": "display_data"
    }
   ],
   "source": [
    "sns.barplot(x=\"sex\", y =\"tip\", data = tips, hue = \"day\", palette = \"YlGnBu\")"
   ]
  },
  {
   "cell_type": "code",
   "execution_count": 16,
   "metadata": {},
   "outputs": [
    {
     "data": {
      "text/plain": [
       "<Axes: xlabel='day', ylabel='tip'>"
      ]
     },
     "execution_count": 16,
     "metadata": {},
     "output_type": "execute_result"
    },
    {
     "data": {
      "image/png": "[encoded data removed]",
      "text/plain": [
       "<Figure size 640x480 with 1 Axes>"
      ]
     },
     "metadata": {},
     "output_type": "display_data"
    }
   ],
   "source": [
    "sns.boxplot(x=\"day\", y=\"tip\", hue = \"sex\", data=tips, palette=\"YlGnBu\")"
   ]
  },
  {
   "cell_type": "code",
   "execution_count": 22,
   "metadata": {},
   "outputs": [
    {
     "data": {
      "text/plain": [
       "<Axes: xlabel='day', ylabel='tip'>"
      ]
     },
     "execution_count": 22,
     "metadata": {},
     "output_type": "execute_result"
    },
    {
     "data": {
      "image/png": "[encoded data removed]",
      "text/plain": [
       "<Figure size 640x480 with 1 Axes>"
      ]
     },
     "metadata": {},
     "output_type": "display_data"
    }
   ],
   "source": [
    "sns.stripplot(x=\"day\", y=\"tip\", data = tips, hue =\"sex\", palette = \"YlGnBu\", dodge = True)"
   ]
  },
  {
   "cell_type": "code",
   "execution_count": null,
   "metadata": {},
   "outputs": [],
   "source": []
  }
 ],
 "metadata": {
  "kernelspec": {
   "display_name": "Python 3",
   "language": "python",
   "name": "python3"
  },
  "language_info": {
   "codemirror_mode": {
    "name": "ipython",
    "version": 3
   },
   "file_extension": ".py",
   "mimetype": "text/x-python",
   "name": "python",
   "nbconvert_exporter": "python",
   "pygments_lexer": "ipython3",
   "version": "3.13.2"
  }
 },
 "nbformat": 4,
 "nbformat_minor": 2
}
